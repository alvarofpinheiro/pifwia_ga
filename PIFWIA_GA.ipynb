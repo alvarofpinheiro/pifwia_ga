{
  "nbformat": 4,
  "nbformat_minor": 0,
  "metadata": {
    "colab": {
      "name": "PIFWIA_GA.ipynb",
      "provenance": [],
      "collapsed_sections": [],
      "include_colab_link": true
    },
    "kernelspec": {
      "name": "python3",
      "display_name": "Python 3"
    }
  },
  "cells": [
    {
      "cell_type": "markdown",
      "metadata": {
        "id": "view-in-github",
        "colab_type": "text"
      },
      "source": [
        "<a href=\"https://colab.research.google.com/github/alvarofpinheiro/pifwia_ga/blob/main/PIFWIA_GA.ipynb\" target=\"_parent\"><img src=\"https://colab.research.google.com/assets/colab-badge.svg\" alt=\"Open In Colab\"/></a>"
      ]
    },
    {
      "cell_type": "markdown",
      "source": [
        "GA - Genetic Algorithm ou Algoritmo Genético é uma metaheurística derivada da Computação Evolucionária tendo como um dos primeiros pesquisadores Melanie Mitchell em 1996 que se propõe resolver problemas de otimização e busca inspirado no processo de seleção natural fazendo uso de operadores como mutação, cruzamento e seleção.\n",
        "\n",
        "Mitchell, M. Genetic algorithms: An overview. Complexity, Volume 1, Issue 1 Pages: 4-67. https://doi.org/10.1002/cplx.6130010108, 1995."
      ],
      "metadata": {
        "id": "6jIxifIcWp2p"
      }
    },
    {
      "cell_type": "code",
      "source": [
        "#instala biblioteca Orange Canvas\n",
        "!pip install Orange3"
      ],
      "metadata": {
        "id": "Geg2vlPCWtrS"
      },
      "execution_count": null,
      "outputs": []
    },
    {
      "cell_type": "code",
      "metadata": {
        "id": "olwzacGbnu13"
      },
      "source": [
        "#importa bibliotecas\n",
        "import random\n",
        "import math\n",
        "import matplotlib.pyplot as plt\n",
        "from numpy.random import choice\n",
        "import Orange"
      ],
      "execution_count": null,
      "outputs": []
    },
    {
      "cell_type": "code",
      "source": [
        "#define os hiperparâmetros\n",
        "DIMENSOES = 2 #determina a quantidade de dimensões do problema\n",
        "ITERACOES = 200 #quantiddade máxima de ciclos (episódios) especificando quantas explorações podem ser realizadas\n",
        "POPULACAO = 20 #tamanho da população correspondente ao número de formigas no formigueiro\n",
        "E1 = -15 #extremo esquerdo eixo x\n",
        "E2 = 15 #extremo direito eixo x\n",
        "E3 = -100 #extremo inferior eixo y\n",
        "E4 = 100 #extremo superior eixo y\n",
        "LIMITES = [E3,E4] #(bound) determina os valores maximos e minimos do espaço de busca (região de busca)\n",
        "FCUSTO = 'distancia' #(fitness) define a aptidão do indivíduo na possível solução do problema\n",
        "TORNEIO = 0.4 # taxa do método de seleção torneio\n",
        "ROLETA = 0.6 # taxa do método de seleção roleta\n",
        "MUTACAO = 0.1 # taxa do operador de mutação\n",
        "INDIVIDUOS = [] #(swarm) array da criação dos indivíduos da população"
      ],
      "metadata": {
        "id": "byoDNQtSW0Ez"
      },
      "execution_count": null,
      "outputs": []
    },
    {
      "cell_type": "code",
      "source": [
        "#importa dados\n",
        "from google.colab import files  \n",
        "files.upload()"
      ],
      "metadata": {
        "id": "hMg5ra24W2vg"
      },
      "execution_count": null,
      "outputs": []
    },
    {
      "cell_type": "code",
      "source": [
        "#instancia objeto de dados com base no caminho gerado na importação do arquivo\n",
        "dados = Orange.data.Table(\"/content/dados.csv\")"
      ],
      "metadata": {
        "id": "TQQKVlzkW5Pu"
      },
      "execution_count": null,
      "outputs": []
    },
    {
      "cell_type": "code",
      "source": [
        "#explora os metadados e dados da arquivo importado\n",
        "qtde_campos = len(dados.domain.attributes)\n",
        "qtde_cont = sum(1 for a in dados.domain.attributes if a.is_continuous)\n",
        "qtde_disc = sum(1 for a in dados.domain.attributes if a.is_discrete)\n",
        "print(\"%d metadados: %d continuos, %d discretos\" % (qtde_campos, qtde_cont, qtde_disc))\n",
        "print(\"Nome dos metadados:\", \", \".join(dados.domain.attributes[i].name for i in range(qtde_campos)),)\n",
        "dados.domain.attributes #explora os domínios dos atributos (campos da base de dados)\n",
        "print(\"Registros:\", len(dados)) #explora os dados (quantidade de registros da base de dados)\n",
        "i = 0 #exibe os primeiros registros para análise dos dados importados\n",
        "for d in dados[:20]:\n",
        "  i += 1\n",
        "  print(i, d)"
      ],
      "metadata": {
        "id": "r4PT6VN4W8AP"
      },
      "execution_count": null,
      "outputs": []
    },
    {
      "cell_type": "code",
      "source": [
        "#cria arrays das dimensões do problema a ser otimizado\n",
        "periodo = []\n",
        "complexidade = [] #1-muito baixa complexidade;2-baixa complexidade;3-média complexidade;4-alta complexidade;e,5-muito alta complexidade\n",
        "pagina = []\n",
        "prazo = []\n",
        "revisao = []\n",
        "entrega = []\n",
        "i = 0\n",
        "for d in dados[:POPULACAO]:\n",
        "  periodo.append(d[1])\n",
        "  complexidade.append(d[2])\n",
        "  pagina.append(d[3])\n",
        "  prazo.append(d[4])\n",
        "  revisao.append(d[5])\n",
        "  entrega.append(d[6])\n",
        "  print(\"id:\",i,\"período:\",periodo[i],\"complexidade:\",complexidade[i],\"página:\",pagina[i],\"prazo:\",prazo[i],\"revisões:\",revisao[i],\"entrega:\",entrega[i])\n",
        "  per = periodo[i]\n",
        "  cpx = complexidade[i]\n",
        "  pag = pagina[i]\n",
        "  prz = prazo[i]\n",
        "  rev = revisao[i]\n",
        "  ent = entrega[i]\n",
        "  i += 1"
      ],
      "metadata": {
        "id": "R7LTIS2SW-dy"
      },
      "execution_count": null,
      "outputs": []
    },
    {
      "cell_type": "code",
      "source": [
        "#função custo ou objetivo ou aptidão ou otimização ou fitness - usada para buscar o melhor ponto dentro de um espaço de buscao (melhor global) sem ficar preso em um melhor local\n",
        "def fcusto(possivel_solucao):\n",
        "  fitness = 0\n",
        "  for i in range(0, POPULACAO): \n",
        "    if i < POPULACAO - 1:\n",
        "      fitness += pontos[possivel_solucao[i]].distancia(pontos[possivel_solucao[i+1]])\n",
        "    else:\n",
        "      fitness += pontos[possivel_solucao[i]].distancia(pontos[possivel_solucao[0]])\n",
        "  return 1/fitness"
      ],
      "metadata": {
        "id": "pg6UwTJnXBbY"
      },
      "execution_count": null,
      "outputs": []
    },
    {
      "cell_type": "code",
      "source": [
        "#indivíduo - unidade base da otimização, posicionada numa determinada posição no espaço de busca do problema, representando uma solução em potencial para o problema\n",
        "class Individuo:\n",
        "  def __init__(self, x, y):\n",
        "    self.posicao_x = x\n",
        "    self.posicao_y = y\n",
        "  def distancia(self, individuo_outro):\n",
        "    return math.sqrt((self.posicao_x - individuo_outro.posicao_x)**2 + (self.posicao_y - individuo_outro.posicao_y)**2)"
      ],
      "metadata": {
        "id": "KoqYcK4dsrT-"
      },
      "execution_count": null,
      "outputs": []
    },
    {
      "cell_type": "code",
      "source": [
        "#mutação - operação que modifica aleatoriamente alguma característica do indivíduo criando novos valores de características em uma pequena quantidade da população\n",
        "#introduzindo diversidade genética na população assegurando a probabilidade de se chegar a qualquer ponto do espaço de busca\n",
        "def mutacao(individuo):\n",
        "  if random.random() < MUTACAO:\n",
        "    individuo_mutado = []\n",
        "    aux_1 = random.randint(0, POPULACAO-1)\n",
        "    aux_2 = random.randint(0, POPULACAO-1)\n",
        "    while(aux_1 == aux_2):\n",
        "      aux_2 = random.randint(0, POPULACAO-1)\n",
        "    if aux_2 < aux_1:\n",
        "      aux_3 = aux_1\n",
        "      aux_1 = aux_2\n",
        "      aux_2 = aux_3\n",
        "    for i in range(aux_1):\n",
        "      individuo_mutado.append(individuo[i])\n",
        "    for i in range(aux_2-1, aux_1-1, -1):\n",
        "      individuo_mutado.append(individuo[i])\n",
        "    for i in range(aux_2, len(individuo)):\n",
        "      individuo_mutado.append(individuo[i])\n",
        "    return individuo_mutado\n",
        "  return individuo"
      ],
      "metadata": {
        "id": "YZOyWrr3s7R9"
      },
      "execution_count": null,
      "outputs": []
    },
    {
      "cell_type": "code",
      "source": [
        "#crossover - operação de cruzamento onde são criados novos indivíduos misturando características de dois indivíduos base características de um indivíduo\n",
        "#são trocados pelo trecho equivalente do outro indivíduo #resultando em um novo indivíduo que potencialmente combina as melhores características dos indivíduos base\n",
        "def crossover(individuos, pais):\n",
        "  aux_1 = random.randint(0, POPULACAO-1)\n",
        "  aux_2 = random.randint(0, POPULACAO-1)\n",
        "  if aux_2 < aux_1:\n",
        "    aux_3 = aux_1\n",
        "    aux_1 = aux_2\n",
        "    aux_2 = aux_3\n",
        "  list_pai = individuos[pais[0]][aux_1:aux_2]\n",
        "  filho = []\n",
        "  i = 0\n",
        "  while len(filho) < aux_1:\n",
        "    if individuos[pais[1]][i] not in list_pai:\n",
        "      filho.append(individuos[pais[1]][i])\n",
        "    i+=1\n",
        "  filho = filho + list_pai\n",
        "  i = 0\n",
        "  while len(filho) < POPULACAO:\n",
        "    if individuos[pais[1]][i] not in filho:\n",
        "      filho.append(individuos[pais[1]][i])\n",
        "    i+=1\n",
        "  return filho"
      ],
      "metadata": {
        "id": "mLCEvj80s-Re"
      },
      "execution_count": null,
      "outputs": []
    },
    {
      "cell_type": "code",
      "source": [
        "#selecao - operação de seleção de um indivíduo de uma população para aplicação dos operadores genéticos através de um valor aptidão podendo ser através do método \"Roleta\" ou \"Torneio\"\n",
        "def selecao_base(fitness):\n",
        "  pais = []\n",
        "  for i in range(POPULACAO):\n",
        "    pais.append(torneio(fitness))\n",
        "  return pais"
      ],
      "metadata": {
        "id": "Ap8n7KzGtBX1"
      },
      "execution_count": null,
      "outputs": []
    },
    {
      "cell_type": "code",
      "metadata": {
        "id": "EMjcWGp4nb2q"
      },
      "source": [
        "#torneio - um número n de indivíduos da população é escolhido aleatoriamente para formar uma sub-população temporária\n",
        "#deste grupo o indivíduo selecionado dependerá de uma probabilidade k definida previamente\n",
        "def torneio(fitness):\n",
        "  pais = []\n",
        "  for k in range(0, 2):\n",
        "    individuos_torneio = []\n",
        "    for i in range(POPULACAO):\n",
        "      aux = random.random()\n",
        "      if aux < TORNEIO:\n",
        "        individuos_torneio.append(i)\n",
        "    while len(individuos_torneio) < 2:\n",
        "      individuos_torneio.append(random.randint(0, POPULACAO-1))\n",
        "    best = fitness[individuos_torneio[0]]\n",
        "    best_ind = individuos_torneio[0]\n",
        "    for i in range(len(individuos_torneio)):\n",
        "      if fitness[individuos_torneio[i]] > best:\n",
        "        best = fitness[individuos_torneio[i]]\n",
        "        best_ind = individuos_torneio[i]\n",
        "    pais.append(best_ind)\n",
        "  return pais"
      ],
      "execution_count": null,
      "outputs": []
    },
    {
      "cell_type": "code",
      "source": [
        "#roleta - cada indivíduo da população é representado proporcionalmente ao seu índice de aptidão, assim indivíduos com alta aptidão possuem uma porção maior da roleta\n",
        "def roleta(fitness):\n",
        "  pais = []\n",
        "  for k in range(0, 2):\n",
        "    individuos_roleta = []\n",
        "    for i in range(POPULACAO):\n",
        "      aux = random.random()\n",
        "      if aux < ROLETA:\n",
        "        individuos_roleta.append(i)\n",
        "    while len(individuos_roleta) < 2:\n",
        "      individuos_roleta.append(random.randint(0, POPULACAO-1))\n",
        "    best = fitness[individuos_roleta[0]]\n",
        "    best_ind = individuos_roleta[0]\n",
        "    for i in range(len(individuos_roleta)):\n",
        "      if fitness[individuos_roleta[i]] > best:\n",
        "        best = fitness[individuos_roleta[i]]\n",
        "        best_ind = individuos_roleta[i]\n",
        "    pais.append(best_ind)\n",
        "  return pais"
      ],
      "metadata": {
        "id": "X3qd622kbZDg"
      },
      "execution_count": null,
      "outputs": []
    },
    {
      "cell_type": "code",
      "source": [
        "#calcula posições\n",
        "def calcula_solucao():\n",
        "  lista_individuos = list(range(POPULACAO))\n",
        "  lista_aleatoria = []\n",
        "  for i in range(POPULACAO):\n",
        "    individuo = random.choice(lista_individuos)\n",
        "    lista_aleatoria.append(individuo)\n",
        "    lista_individuos.remove(individuo)\n",
        "  return lista_aleatoria"
      ],
      "metadata": {
        "id": "g6Ub9nVqlQSN"
      },
      "execution_count": null,
      "outputs": []
    },
    {
      "cell_type": "code",
      "source": [
        "#plota posições no gráfico\n",
        "def exibe_grafico(titulo, lista_pontos, solucao):\n",
        "  x = []\n",
        "  y = []\n",
        "  for i in range(POPULACAO):\n",
        "    x.append(lista_pontos[solucao[i]].posicao_x)\n",
        "    y.append(lista_pontos[solucao[i]].posicao_y)\n",
        "    plt.plot(lista_pontos[solucao[i]].posicao_x, lista_pontos[solucao[i]].posicao_y, 'ro')\n",
        "  x.append(lista_pontos[solucao[0]].posicao_x)\n",
        "  y.append(lista_pontos[solucao[0]].posicao_y)\n",
        "  plt.axis([E1,E2,E3,E4])\n",
        "  plt.plot(0,0, marker='*', markersize=10, linewidth=0.8, color='b')\n",
        "  plt.plot(x,y, color='c')\n",
        "  plt.title(titulo)\n",
        "  plt.show()"
      ],
      "metadata": {
        "id": "ivDSOgz8pZRR"
      },
      "execution_count": null,
      "outputs": []
    },
    {
      "cell_type": "code",
      "source": [
        "#inicializa população (indivíduos)\n",
        "for i in range(POPULACAO):\n",
        "  cpx = complexidade[i]\n",
        "  pag = pagina[i]\n",
        "  posicao = [cpx,pag]\n",
        "  INDIVIDUOS.append(posicao)\n",
        "  print(\"indivíduo:\",i,\"complexidade:\",INDIVIDUOS[-1][0],\"página:\",INDIVIDUOS[-1][1])"
      ],
      "metadata": {
        "id": "WQqVhh6XZDEB"
      },
      "execution_count": null,
      "outputs": []
    },
    {
      "cell_type": "code",
      "source": [
        "#posiciona os indivíduos no espaço de busca\n",
        "pontos = []\n",
        "for i in range(POPULACAO):\n",
        "  pontos.append(Individuo(INDIVIDUOS[i][0], INDIVIDUOS[i][1]))\n",
        "individuos = []\n",
        "fitness = []\n",
        "fitness_tempo = []\n",
        "for i in range(POPULACAO):\n",
        "  individuos.append(calcula_solucao())\n",
        "  fitness.append(fcusto(individuos[-1]))\n",
        "print('Distancia inicial:',1/fitness[0])\n",
        "exibe_grafico('Solução aleatória inicial', pontos, individuos[0])"
      ],
      "metadata": {
        "id": "pEM_Fvt7tJQr"
      },
      "execution_count": null,
      "outputs": []
    },
    {
      "cell_type": "code",
      "metadata": {
        "id": "cLBqPUEioRCK"
      },
      "source": [
        "#otimização GA\n",
        "best = 0\n",
        "best_route = []\n",
        "for i in range(ITERACOES):\n",
        "  print(\"Iteração: {:.0f}\".format(i+1))\n",
        "  pais = selecao_base(fitness)\n",
        "  filhos = []\n",
        "  for j in pais:\n",
        "    filhos.append(crossover(individuos,j))\n",
        "  individuos = filhos\n",
        "  for k in range(POPULACAO):\n",
        "    individuos[k] = mutacao(individuos[k])\n",
        "  fitness = []\n",
        "  for k in range(POPULACAO):\n",
        "    fitness.append(fcusto(individuos[k]))\n",
        "    if fitness[-1] > best:\n",
        "      best = fitness[-1]\n",
        "      best_route = individuos[k]\n",
        "  exibe_grafico('Melhor rota ' + str(best_route), pontos, best_route)\n",
        "  fitness_tempo.append(1/best)"
      ],
      "execution_count": null,
      "outputs": []
    },
    {
      "cell_type": "code",
      "source": [
        "print('Melhor:',1/best)\n",
        "exibe_grafico('Melhor Solução', pontos, best_route)"
      ],
      "metadata": {
        "id": "ccVY4TpmbbTV"
      },
      "execution_count": null,
      "outputs": []
    },
    {
      "cell_type": "code",
      "source": [
        "#exibe a curva de convergência dos indivíduos\n",
        "x = []\n",
        "y = []\n",
        "for i in range(len(fitness_tempo)):\n",
        "  x.append(i)\n",
        "  y.append(fitness_tempo[i])\n",
        "plt.plot(x, y)\n",
        "plt.title('Desempenho X Tempo')\n",
        "plt.show()"
      ],
      "metadata": {
        "id": "jIjh8-yVtQ9K"
      },
      "execution_count": null,
      "outputs": []
    },
    {
      "cell_type": "code",
      "source": [
        "#exibe das posições e otimizações calculadas\n",
        "posicao_inicial = []\n",
        "posicao_otimizada = []\n",
        "for i in range(POPULACAO):\n",
        "  posicao_inicial.append(INDIVIDUOS[i])\n",
        "  posicao_otimizada.append(INDIVIDUOS[i])\n",
        "  print(\"i:\",i,\"posição:\",posicao_inicial[i],\"otimização:\",posicao_otimizada[i])"
      ],
      "metadata": {
        "id": "EvVAVvOowDq1"
      },
      "execution_count": null,
      "outputs": []
    }
  ]
}