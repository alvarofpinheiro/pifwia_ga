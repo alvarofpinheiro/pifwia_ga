{
  "nbformat": 4,
  "nbformat_minor": 0,
  "metadata": {
    "colab": {
      "name": "PIFWIA_GA.ipynb",
      "provenance": [],
      "collapsed_sections": [],
      "include_colab_link": true
    },
    "kernelspec": {
      "name": "python3",
      "display_name": "Python 3"
    }
  },
  "cells": [
    {
      "cell_type": "markdown",
      "metadata": {
        "id": "view-in-github",
        "colab_type": "text"
      },
      "source": [
        "<a href=\"https://colab.research.google.com/github/alvarofpinheiro/pifwia_ga/blob/main/PIFWIA_GA.ipynb\" target=\"_parent\"><img src=\"https://colab.research.google.com/assets/colab-badge.svg\" alt=\"Open In Colab\"/></a>"
      ]
    },
    {
      "cell_type": "markdown",
      "metadata": {
        "id": "k8KVqN4-qooh"
      },
      "source": [
        "Algoritmo Genético em Inteligência Computacional é uma metaheurística inspirada no processo de seleção natural que pertence à classe maior de algoritmos evolutivos (EA). Os algoritmos genéticos são comumente usados para gerar soluções de alta qualidade para problemas de otimização e busca, contando com operadores biologicamente inspirados, como mutação, cruzamento e seleção. Alguns exemplos de aplicações GA incluem a otimização de árvores de decisão para melhor desempenho, resolução automática de quebra-cabeças de sudoku, otimização de hiperparâmetros, etc.\n",
        "\n",
        "Whitley, D. A genetic algorithm tutorial. Statistics and Computing. 4 (2): 65–85. CiteSeerX 10.1.1.184.3999. S2CID 3447126. https://doi.org/10.1007/BF00175354, 1994.\n",
        "\n",
        "Pseudo-código:\n",
        "\n",
        "```\n",
        "populacao_inicial = gerar_populacao()\n",
        "\n",
        "while(criterio de parada):\n",
        "  while(numero de pais < populacao*2):\n",
        "    # decide quais individuos serão utilizados para gerar uma nova geração\n",
        "    selecionar_pais()\n",
        "\n",
        "  for each(par de pais):\n",
        "    # a partir da combinação dos pais gera novos individuos\n",
        "    realizar_crossover()\n",
        "\n",
        "  for each(individuo):\n",
        "    # realiza mudancas nos individuos para incentivar exploração\n",
        "    realizar_mutacao()\n",
        "\n",
        "  for each(individuo):\n",
        "    # verificar qualidade dos individuos\n",
        "    calcular_fitness()\n",
        "```"
      ]
    },
    {
      "cell_type": "code",
      "metadata": {
        "id": "olwzacGbnu13"
      },
      "source": [
        "# Bibliotecas\n",
        "import random\n",
        "import math\n",
        "import matplotlib.pyplot as plt"
      ],
      "execution_count": null,
      "outputs": []
    },
    {
      "cell_type": "code",
      "metadata": {
        "id": "7soaxAJHn14r"
      },
      "source": [
        "# Caixeiro Viajante\n",
        "def gerar_grafico(lista_cidades, solucao, titulo):\n",
        "  x = []\n",
        "  y = []\n",
        "  for i in range(0, NUMERO_DE_CIDADES):\n",
        "    x.append(lista_cidades[solucao[i]].posicao_x)\n",
        "    y.append(lista_cidades[solucao[i]].posicao_y)\n",
        "    plt.plot(lista_cidades[solucao[i]].posicao_x, \n",
        "             lista_cidades[solucao[i]].posicao_y, 'ro')\n",
        "\n",
        "  x.append(lista_cidades[solucao[0]].posicao_x)\n",
        "  y.append(lista_cidades[solucao[0]].posicao_y)\n",
        "  plt.plot(x, y)\n",
        "  plt.title(titulo)\n",
        "  plt.show()"
      ],
      "execution_count": null,
      "outputs": []
    },
    {
      "cell_type": "code",
      "source": [
        "# Mostra a mudanca do melhor fitness pelas iteracoes\n",
        "def gerar_grafico_desempenho_tempo(fitness):\n",
        "  x = []\n",
        "  y = []\n",
        "  for i in range(len(fitness)):\n",
        "    x.append(i)\n",
        "    y.append(fitness[i])\n",
        "\n",
        "  plt.plot(x, y)\n",
        "  plt.title('Desempenho X Tempo')\n",
        "  plt.show()"
      ],
      "metadata": {
        "id": "snI8oY1dMddl"
      },
      "execution_count": null,
      "outputs": []
    },
    {
      "cell_type": "code",
      "metadata": {
        "id": "4K7Oo1Xrn7RY"
      },
      "source": [
        "# Codigo para o problema do caixeiro viajante\n",
        "POSICOES = [\n",
        "[ 11003.611100, 42102.500000],\n",
        "[ 11108.611100, 42373.888900],\n",
        "[ 11133.333300, 42885.833300],\n",
        "[ 11155.833300, 42712.500000],\n",
        "[ 11183.333300, 42933.333300],\n",
        "[ 11297.500000, 42853.333300],\n",
        "[ 11310.277800, 42929.444400],\n",
        "[ 11416.666700, 42983.333300],\n",
        "[ 11423.888900, 43000.277800],\n",
        "[ 11438.333300, 42057.222200],\n",
        "[ 11461.111100, 43252.777800],\n",
        "[ 11485.555600, 43187.222200],\n",
        "[ 11503.055600, 42855.277800],\n",
        "[ 11511.388900, 42106.388900],\n",
        "[ 11522.222200, 42841.944400],\n",
        "[ 11569.444400, 43136.666700],\n",
        "[ 11583.333300, 43150.000000],\n",
        "[ 11595.000000, 43148.055600],\n",
        "[ 11600.000000, 43150.000000],\n",
        "[ 11690.555600, 42686.666700],\n",
        "[ 11715.833300, 41836.111100],\n",
        "[ 11751.111100, 42814.444400],\n",
        "[ 11770.277800, 42651.944400],\n",
        "[ 11785.277800, 42884.444400],\n",
        "[ 11822.777800, 42673.611100],\n",
        "[ 11846.944400, 42660.555600],\n",
        "[ 11963.055600, 43290.555600],\n",
        "[ 11973.055600, 43026.111100],\n",
        "[ 12058.333300, 42195.555600],\n",
        "[ 12149.444400, 42477.500000],\n",
        "[ 12286.944400, 43355.555600],\n",
        "[ 12300.000000, 42433.333300],\n",
        "[ 12355.833300, 43156.388900],\n",
        "[ 12363.333300, 43189.166700],\n",
        "[ 12372.777800, 42711.388900],\n",
        "[ 12386.666700, 43334.722200],\n",
        "[ 12421.666700, 42895.555600],\n",
        "[ 12645.000000, 42973.333300]]\n",
        "\n",
        "NUMERO_DE_CIDADES = len(POSICOES)\n",
        "\n",
        "class cidade:\n",
        "  def __init__(self, x, y):\n",
        "    self.posicao_x = x\n",
        "    self.posicao_y = y\n",
        "  def distancia(self, cidade_externa):\n",
        "    return  math.sqrt((self.posicao_x - cidade_externa.posicao_x)**2 + \n",
        "                      (self.posicao_y - cidade_externa.posicao_y)**2)\n",
        "\n",
        "def instanciando_cidades():\n",
        "  lista = []\n",
        "  for i in range(0, NUMERO_DE_CIDADES):\n",
        "    lista.append(cidade(POSICOES[i][0], POSICOES[i][1]))\n",
        "  return lista\n",
        "\n",
        "def gerar_solucao_aleatoria():\n",
        "  lista_de_cidades = list(range(0, NUMERO_DE_CIDADES))\n",
        "  lista_aleatoria = []\n",
        "  for i in range(0, NUMERO_DE_CIDADES):\n",
        "    cidade = random.choice(lista_de_cidades)\n",
        "    lista_aleatoria.append(cidade)\n",
        "    lista_de_cidades.remove(cidade)\n",
        "  return lista_aleatoria\n",
        "\n",
        "def calcular_fitness(possivel_solucao):\n",
        "  fitness = 0\n",
        "  for i in range(0, NUMERO_DE_CIDADES): \n",
        "    if i < NUMERO_DE_CIDADES - 1:\n",
        "      fitness += cidades[possivel_solucao[i]].distancia(cidades[possivel_solucao[i+1]])\n",
        "    else:\n",
        "      fitness += cidades[possivel_solucao[i]].distancia(cidades[possivel_solucao[0]])\n",
        "  return 1/fitness"
      ],
      "execution_count": null,
      "outputs": []
    },
    {
      "cell_type": "code",
      "metadata": {
        "id": "EMjcWGp4nb2q"
      },
      "source": [
        "# Hiperparâmetros Algoritmo Genetico\n",
        "ITERACOES = 2000\n",
        "POPULACAO = 50\n",
        "TORNEIO_PROB = 0.4\n",
        "PROB_MUTACAO = 0.1"
      ],
      "execution_count": null,
      "outputs": []
    },
    {
      "cell_type": "code",
      "source": [
        "# Mutação\n",
        "def mutacao( individuo):\n",
        "  if random.random() < PROB_MUTACAO:\n",
        "    individuo_mutado = []\n",
        "    aux_1 = random.randint(0, NUMERO_DE_CIDADES-1)\n",
        "    aux_2 = random.randint(0, NUMERO_DE_CIDADES-1)\n",
        "    while(aux_1 == aux_2):\n",
        "      aux_2 = random.randint(0, NUMERO_DE_CIDADES-1)\n",
        "    if aux_2 < aux_1:\n",
        "      aux_3 = aux_1\n",
        "      aux_1 = aux_2\n",
        "      aux_2 = aux_3\n",
        "    for i in range(aux_1):\n",
        "      individuo_mutado.append(individuo[i])\n",
        "    for i in range(aux_2-1, aux_1-1, -1):\n",
        "      individuo_mutado.append(individuo[i])\n",
        "    for i in range(aux_2, len(individuo)):\n",
        "      individuo_mutado.append(individuo[i])\n",
        "    return individuo_mutado\n",
        "  return individuo"
      ],
      "metadata": {
        "id": "bcP9FWIGMwaK"
      },
      "execution_count": null,
      "outputs": []
    },
    {
      "cell_type": "code",
      "source": [
        "# Crossover\n",
        "def crossover( individuos, pais):\n",
        "  aux_1 = random.randint(0, NUMERO_DE_CIDADES-1)\n",
        "  aux_2 = random.randint(0, NUMERO_DE_CIDADES-1)\n",
        "  if aux_2 < aux_1:\n",
        "    aux_3 = aux_1\n",
        "    aux_1 = aux_2\n",
        "    aux_2 = aux_3\n",
        "  list_pai = individuos[pais[0]][aux_1:aux_2]\n",
        "  filho = []\n",
        "  i = 0\n",
        "  while len(filho) < aux_1:\n",
        "    if individuos[pais[1]][i] not in list_pai:\n",
        "      filho.append(individuos[pais[1]][i])\n",
        "    i+=1\n",
        "  filho = filho + list_pai\n",
        "  i = 0\n",
        "  while len(filho) < NUMERO_DE_CIDADES:\n",
        "    if individuos[pais[1]][i] not in filho:\n",
        "      filho.append(individuos[pais[1]][i])\n",
        "    i+=1\n",
        "  return filho"
      ],
      "metadata": {
        "id": "G8U-U-7zM32J"
      },
      "execution_count": null,
      "outputs": []
    },
    {
      "cell_type": "code",
      "source": [
        "# Seleção\n",
        "def selecao_pais(fitness):\n",
        "  pais = []\n",
        "  for i in range(POPULACAO):\n",
        "    pais.append(torneio(fitness))\n",
        "  return pais\n",
        "\n",
        "def torneio(fitness):\n",
        "  pais = []\n",
        "  for k in range(0, 2):\n",
        "    individuos_torneio = []\n",
        "    for i in range(POPULACAO):\n",
        "      aux = random.random()\n",
        "      if aux < TORNEIO_PROB:\n",
        "        individuos_torneio.append(i)\n",
        "    while len(individuos_torneio) < 2:\n",
        "      individuos_torneio.append(random.randint(0, POPULACAO-1))\n",
        "    best = fitness[individuos_torneio[0]]\n",
        "    best_ind = individuos_torneio[0]\n",
        "    for i in range(len(individuos_torneio)):\n",
        "      if fitness[individuos_torneio[i]] > best:\n",
        "        best = fitness[individuos_torneio[i]]\n",
        "        best_ind = individuos_torneio[i]\n",
        "    pais.append(best_ind)\n",
        "\n",
        "  return pais"
      ],
      "metadata": {
        "id": "jFintE3lM_hD"
      },
      "execution_count": null,
      "outputs": []
    },
    {
      "cell_type": "code",
      "metadata": {
        "id": "cLBqPUEioRCK"
      },
      "source": [
        "# Execução do GA\n",
        "cidades = instanciando_cidades()"
      ],
      "execution_count": null,
      "outputs": []
    },
    {
      "cell_type": "code",
      "source": [
        "# Inicializando os individuos\n",
        "individuos = []\n",
        "fitness = []\n",
        "fitness_tempo = []\n",
        "for i in range(POPULACAO):\n",
        "  individuos.append(gerar_solucao_aleatoria())\n",
        "  fitness.append(calcular_fitness(individuos[-1]))\n",
        "\n",
        "print('Distancia inicial: ' , 1/fitness[0])\n",
        "gerar_grafico(cidades, individuos[0], 'Solução aleatória inicial')\n",
        "\n",
        "best = 0\n",
        "best_route = []\n",
        "for i in range(ITERACOES):\n",
        "  pais = selecao_pais(fitness)\n",
        "  filhos = []\n",
        "  for j in pais:\n",
        "    filhos.append(crossover(individuos ,j))\n",
        "  individuos = filhos\n",
        "  for k in range(POPULACAO):\n",
        "    individuos[k] = mutacao(individuos[k])\n",
        "  fitness = []\n",
        "  for k in range(POPULACAO):\n",
        "    fitness.append(calcular_fitness(individuos[k]))\n",
        "    if fitness[-1] > best:\n",
        "      best = fitness[-1]\n",
        "      best_route = individuos[k]\n",
        "  fitness_tempo.append(1/best)"
      ],
      "metadata": {
        "id": "VkL3mWFsNI4h"
      },
      "execution_count": null,
      "outputs": []
    },
    {
      "cell_type": "code",
      "source": [
        "# Plotando\n",
        "\n",
        "print('Melhor: ' , 1/best)\n",
        "gerar_grafico(cidades, best_route, 'Melhor Solução')\n",
        "gerar_grafico_desempenho_tempo(fitness_tempo)"
      ],
      "metadata": {
        "id": "QdD1VgY4NR0s"
      },
      "execution_count": null,
      "outputs": []
    }
  ]
}